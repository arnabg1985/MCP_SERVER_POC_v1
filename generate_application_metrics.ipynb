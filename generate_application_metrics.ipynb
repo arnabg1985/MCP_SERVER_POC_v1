{
 "cells": [
  {
   "cell_type": "code",
   "execution_count": 1,
   "id": "5ed9820b",
   "metadata": {},
   "outputs": [],
   "source": [
    "import csv\n",
    "import random\n",
    "from datetime import datetime, timedelta"
   ]
  },
  {
   "cell_type": "code",
   "execution_count": 2,
   "id": "51063821",
   "metadata": {},
   "outputs": [],
   "source": [
    "apps = [\n",
    "    \"StockTraderPro\", \"MarketAnalyzer\", \"FinTransact\", \"EquityInsight\",\n",
    "    \"RiskGuardian\", \"TradeStream\", \"OptionMaster\", \"BondWatch\",\n",
    "    \"ForexPulse\", \"PortfolioPro\", \"CryptoFlow\", \"LoanLogic\"\n",
    "]\n",
    "servers = [\"srv-app01\", \"srv-app02\", \"srv-db01\", \"srv-db02\", \"srv-cache01\", \"srv-web01\"]"
   ]
  },
  {
   "cell_type": "code",
   "execution_count": 4,
   "id": "c789ba07",
   "metadata": {},
   "outputs": [
    {
     "name": "stdout",
     "output_type": "stream",
     "text": [
      "application_metrics.csv generated with 5000 dummy records.\n"
     ]
    }
   ],
   "source": [
    "rows = []\n",
    "start_date = datetime.now() - timedelta(days=30)\n",
    "for i in range(5000):\n",
    "    app = random.choice(apps)\n",
    "    date = (start_date + timedelta(minutes=i*10)).strftime(\"%Y-%m-%d\")\n",
    "    time_stamp = (start_date + timedelta(minutes=i*10)).strftime(\"%H:%M:%S\")\n",
    "    server = random.choice(servers)\n",
    "    cpu_usage = round(random.uniform(10, 95), 2)\n",
    "    memory_usage = round(random.uniform(512, 16384), 2)  # MB\n",
    "    disk_io = round(random.uniform(0.1, 100), 2)  # MB/s\n",
    "    network_in = round(random.uniform(0.1, 100), 2)\n",
    "    network_out = round(random.uniform(0.1, 100), 2)\n",
    "    response_time_ms = round(random.uniform(30, 1000), 2)\n",
    "    error_rate = round(random.uniform(0, 5), 3)  # %\n",
    "    requests_per_minute = random.randint(10, 10000)\n",
    "\n",
    "    rows.append([\n",
    "        app, date, time_stamp, server, cpu_usage, memory_usage,\n",
    "        disk_io, network_in, network_out, response_time_ms, error_rate, requests_per_minute\n",
    "    ])\n",
    "\n",
    "with open(\"application_metrics.csv\", \"w\", newline=\"\") as f:\n",
    "    writer = csv.writer(f)\n",
    "    writer.writerow([\n",
    "        \"application_name\", \"date\", \"time_stamp\", \"server_name\", \"cpu_usage\", \"memory_usage\",\n",
    "        \"disk_io\", \"network_in\", \"network_out\", \"response_time_ms\", \"error_rate\", \"requests_per_minute\"\n",
    "    ])\n",
    "    writer.writerows(rows)\n",
    "\n",
    "print(\"application_metrics.csv generated with 5000 dummy records.\")"
   ]
  }
 ],
 "metadata": {
  "kernelspec": {
   "display_name": "sumanda_temp",
   "language": "python",
   "name": "python3"
  },
  "language_info": {
   "codemirror_mode": {
    "name": "ipython",
    "version": 3
   },
   "file_extension": ".py",
   "mimetype": "text/x-python",
   "name": "python",
   "nbconvert_exporter": "python",
   "pygments_lexer": "ipython3",
   "version": "3.13.2"
  }
 },
 "nbformat": 4,
 "nbformat_minor": 5
}
